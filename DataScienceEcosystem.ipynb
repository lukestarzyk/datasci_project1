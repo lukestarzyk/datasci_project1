{
 "cells": [
  {
   "cell_type": "markdown",
   "id": "e86b95da-5597-4a52-8f73-d0af644a3c5b",
   "metadata": {},
   "source": [
    "<h1>Data Science Tools and Ecosystem</h1>"
   ]
  },
  {
   "cell_type": "markdown",
   "id": "e68a1f3a-27fe-430c-a8f7-3148c70c8852",
   "metadata": {},
   "source": [
    "In this notebook, Data Science Tools and Ecosystem are summarized."
   ]
  },
  {
   "cell_type": "markdown",
   "id": "83b55b5e-ec26-4b92-95ff-6047f346789a",
   "metadata": {},
   "source": [
    "<b>Objectives:</b>\n",
    "<ul>\n",
    "    <li>List popular languages for Data Science</li>\n",
    "    <li>List popular libraries used in Data Sciene</li>\n",
    "    <li>List development environments used for Data Science</li>\n",
    "    <li>List arithmetic operations supported in Python</li>\n",
    "    <li>Evaluate examples of arithmetic operations in Python</li>\n",
    "</ul>"
   ]
  },
  {
   "cell_type": "markdown",
   "id": "66b5fcef-4b4e-42ec-9890-f9c6d56d6ab2",
   "metadata": {},
   "source": [
    "Some of the popular languages that Data Scientists use are:\n",
    "<ol>\n",
    "    <li>Python</li>\n",
    "    <li>R</li>\n",
    "    <li>SQL</li>\n",
    "    <li>Julia</li>\n",
    "    <li>Scala</li>\n",
    "    <li>Java</li>\n",
    "    <li>C++</li>\n",
    "</ol>"
   ]
  },
  {
   "cell_type": "markdown",
   "id": "a7e82a7a-36f3-46ce-b971-c50052d0d86c",
   "metadata": {},
   "source": [
    "Some of the commonly used libraries used by Data Scientists include:\n",
    "<ol>\n",
    "    <li>NumPy</li>\n",
    "    <li>TensorFlow</li>\n",
    "    <li>SciPy</li>\n",
    "    <li>Keras</li>\n",
    "    <li>Pandas</li>\n",
    "    <li>Plotly</li>\n",
    "</ol>"
   ]
  },
  {
   "cell_type": "markdown",
   "id": "9d786dd3-bb6c-4472-a46c-2839e0489473",
   "metadata": {},
   "source": [
    "| Data Science Tools |\n",
    "| ------------------ |\n",
    "Jupyter Notebook\n",
    "RStudio\n",
    "PyCharm"
   ]
  },
  {
   "cell_type": "markdown",
   "id": "fc828ebf-6994-4229-b5e0-b692e516f8fe",
   "metadata": {},
   "source": [
    "<h3>Below are a few examples of evaluating arithmetic expressions in Python.</h3>\n",
    "<ul>\n",
    "    <li>addition e.g. x + y</li>\n",
    "    <li>subtraction e.g. x - y</li>\n",
    "    <li>multiplication e.g. x * y</li>\n",
    "    <li>division e.g. x / y</li>\n",
    "    <li>modulus e.g. x % y</li>\n",
    "    <li>exponentiation e.g. x ** y</li>\n",
    "    <li>floor division e.g. x // y</li>\n",
    "</ul>"
   ]
  },
  {
   "cell_type": "code",
   "execution_count": 1,
   "id": "7e1ebded-00e2-458e-ac98-9b45e390a2fb",
   "metadata": {},
   "outputs": [
    {
     "data": {
      "text/plain": [
       "17"
      ]
     },
     "execution_count": 1,
     "metadata": {},
     "output_type": "execute_result"
    }
   ],
   "source": [
    "#This a simple arithmetic expression to mutiply then add integers.\n",
    "(3*4)+5"
   ]
  },
  {
   "cell_type": "code",
   "execution_count": 2,
   "id": "0fbf4777-fcff-410f-95b8-99e112dc79bf",
   "metadata": {},
   "outputs": [
    {
     "data": {
      "text/plain": [
       "3.3333333333333335"
      ]
     },
     "execution_count": 2,
     "metadata": {},
     "output_type": "execute_result"
    }
   ],
   "source": [
    "#This will convert 200 minutes to hours by diving by 60.\n",
    "200 / 60"
   ]
  },
  {
   "cell_type": "markdown",
   "id": "f2d6e979-5f38-44b1-b8ec-5a7ca2f84b2b",
   "metadata": {},
   "source": [
    "<h2>Author:</h2>\n",
    "Lukas"
   ]
  },
  {
   "cell_type": "code",
   "execution_count": null,
   "id": "87bacac6-6507-4cf5-91eb-75eafd34f916",
   "metadata": {},
   "outputs": [],
   "source": []
  }
 ],
 "metadata": {
  "kernelspec": {
   "display_name": "Python 3 (ipykernel)",
   "language": "python",
   "name": "python3"
  },
  "language_info": {
   "codemirror_mode": {
    "name": "ipython",
    "version": 3
   },
   "file_extension": ".py",
   "mimetype": "text/x-python",
   "name": "python",
   "nbconvert_exporter": "python",
   "pygments_lexer": "ipython3",
   "version": "3.11.13"
  }
 },
 "nbformat": 4,
 "nbformat_minor": 5
}
